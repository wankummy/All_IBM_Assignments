{
    "cells": [
        {
            "cell_type": "markdown",
            "metadata": {
                "collapsed": true
            },
            "source": "# My Jupyter Notebook on IBM Watson Studio"
        },
        {
            "cell_type": "markdown",
            "metadata": {},
            "source": "Name: **Iriah**\n\nOccupation: Data Scientist"
        },
        {
            "cell_type": "markdown",
            "metadata": {},
            "source": "I am interested in data science because i love to use my computer and i also enjoy analysing information and helping others understand raw data.\n"
        },
        {
            "cell_type": "markdown",
            "metadata": {},
            "source": "### This is a Simple Arithmetic expression"
        },
        {
            "cell_type": "code",
            "execution_count": 2,
            "metadata": {},
            "outputs": [
                {
                    "data": {
                        "text/plain": "8"
                    },
                    "execution_count": 2,
                    "metadata": {},
                    "output_type": "execute_result"
                }
            ],
            "source": "3 + 5"
        },
        {
            "cell_type": "markdown",
            "metadata": {},
            "source": "#### This is an Ordered List of fruits\n\n1. Apples\n2. Bananas\n3. Grapes\n\n#### This is a bulleted List of Stationaries\n\n- Pencils\n- Notepads\n- Pens\n- Folders\n\n#### This is a table of shop items and prices\n\n|SNo.|Item    |Price|\n|----|--------|----|\n|1. |Ball|5|\n|2. | Fan | 200|\n\n"
        },
        {
            "cell_type": "code",
            "execution_count": null,
            "metadata": {},
            "outputs": [],
            "source": ""
        }
    ],
    "metadata": {
        "kernelspec": {
            "display_name": "Python 3.10",
            "language": "python",
            "name": "python3"
        },
        "language_info": {
            "codemirror_mode": {
                "name": "ipython",
                "version": 3
            },
            "file_extension": ".py",
            "mimetype": "text/x-python",
            "name": "python",
            "nbconvert_exporter": "python",
            "pygments_lexer": "ipython3",
            "version": "3.10.13"
        }
    },
    "nbformat": 4,
    "nbformat_minor": 1
}